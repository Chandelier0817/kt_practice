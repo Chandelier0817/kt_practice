{
 "cells": [
  {
   "cell_type": "code",
   "execution_count": null,
   "id": "43f4f821",
   "metadata": {},
   "outputs": [],
   "source": [
    "def solution(lottos, win_nums):\n",
    "    \n",
    "    rankList = [6, 6, 5, 4, 3, 2, 1]\n",
    "    \n",
    "    cnt = 0\n",
    "    \n",
    "    for i in lottos:\n",
    "        if i in win_nums : cnt += 1 \n",
    "    \n",
    "    rankHigh = rankList[cnt + lottos.count(0)]\n",
    "    rankLow = rankList[cnt]\n",
    "    \n",
    "    answer = [rankHigh, rankLow]\n",
    "\n",
    "    return answer\n",
    "\n",
    "lottos = [44, 1, 0, 0, 31, 25]\n",
    "win_nums = [31, 10, 45, 1, 6, 19]\n",
    "\n",
    "answer = solution(lottos, win_nums)\n",
    "print(answer)"
   ]
  }
 ],
 "metadata": {
  "kernelspec": {
   "display_name": "Python 3",
   "language": "python",
   "name": "python3"
  },
  "language_info": {
   "codemirror_mode": {
    "name": "ipython",
    "version": 3
   },
   "file_extension": ".py",
   "mimetype": "text/x-python",
   "name": "python",
   "nbconvert_exporter": "python",
   "pygments_lexer": "ipython3",
   "version": "3.8.8"
  }
 },
 "nbformat": 4,
 "nbformat_minor": 5
}
